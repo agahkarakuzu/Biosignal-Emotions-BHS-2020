{
 "cells": [
  {
   "cell_type": "code",
   "execution_count": null,
   "metadata": {},
   "outputs": [],
   "source": [
    "# Notebook for a local workflow\n",
    "\n",
    "import pandas as pd \n",
    "participants = pd.read_csv(\"ds002721/participants.tsv\", delimiter='\\t')\n",
    "participants.head(len(participants))"
   ]
  },
  {
   "cell_type": "code",
   "execution_count": null,
   "metadata": {},
   "outputs": [],
   "source": [
    "import seaborn as sns\n",
    "sns.set(style=\"darkgrid\")\n",
    "sns.countplot(x=\"age\", hue=\"sex\",data=participants)"
   ]
  },
  {
   "cell_type": "code",
   "execution_count": null,
   "metadata": {},
   "outputs": [],
   "source": [
    "from IPython.display import display\n",
    "subjects_list=[\"sub-01\",\"sub-18\",\"sub-05\"]\n",
    "tasks_list=[\"task-run1\",\"task-run2\",\"task-run3\",\"task-run4\",\"task-run5\",\"task-run6\"]\n",
    "\n",
    "subjects_id=[]\n",
    "channels=pd.DataFrame()\n",
    "for subject in subjects_list:\n",
    "  subjects_id.append(participants[participants['participant_id']==subject].index.values)\n",
    "  for task in tasks_list:\n",
    "    channels = (pd.DataFrame(pd.read_csv(\"ds002721/\"+subject+\"/eeg/\"+subject+\"_\"+task+\"_channels.tsv\", delimiter='\\t')))\n",
    "    #display(channels.head(len(channels)))\n",
    "    \n",
    "    events = (pd.DataFrame(pd.read_csv(\"ds002721/\"+subject+\"/eeg/\"+subject+\"_\"+task+\"_events.tsv\", delimiter='\\t')))\n",
    "    #display(events.head(len(channels)))"
   ]
  },
  {
   "cell_type": "code",
   "execution_count": null,
   "metadata": {},
   "outputs": [],
   "source": [
    "import mne\n",
    "subjects_list=[\"sub-02\"]\n",
    "tasks_list=[\"task-run1\"]#,\"task-run2\",\"task-run3\",\"task-run4\",\"task-run5\",\"task-run6\"]\n",
    "\n",
    "#for subject in subjects_list:\n",
    "#  subjects_id.append(participants[participants['participant_id']==subject].index.values)\n",
    "#  for task in tasks_list:\n",
    "     # raw = mne.io.read_raw_edf(\"ds002721/\"+subject+\"/eeg/\"+subject+\"_\"+task+\"_eeg.edf\")\n",
    "     # display(len(raw))\n",
    "display(os.path.isfile(\"ds002721/\"+subject+\"/eeg/\"+subject+\"_\"+task+\"_channels.tsv\"))\n",
    "display(os.path.isfile(\"ds002721/\"+subject+\"/eeg/\"+subject+\"_\"+task+\"_eeg.edf\"))\n",
    "display(os.path.isfile(\"ds002721/\"+subject+\"/eeg/\"+subject+\"_\"+task+\"_eeg.json\"))\n",
    "display(os.path.isfile(\"ds002721/\"+subject+\"/eeg/\"+subject+\"_\"+task+\"_events.json\"))\n",
    "display(os.path.isfile(\"ds002721/\"+subject+\"/eeg/\"+subject+\"_\"+task+\"_events.tsv\"))"
   ]
  }
 ],
 "metadata": {
  "kernelspec": {
   "display_name": "Python 3",
   "language": "python",
   "name": "python3"
  },
  "language_info": {
   "codemirror_mode": {
    "name": "ipython",
    "version": 3
   },
   "file_extension": ".py",
   "mimetype": "text/x-python",
   "name": "python",
   "nbconvert_exporter": "python",
   "pygments_lexer": "ipython3",
   "version": "3.7.6"
  }
 },
 "nbformat": 4,
 "nbformat_minor": 4
}
