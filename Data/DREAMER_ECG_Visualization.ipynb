{
 "cells": [
  {
   "cell_type": "code",
   "execution_count": null,
   "metadata": {},
   "outputs": [],
   "source": [
    "import pandas as pd\n",
    "import plotly.graph_objects as go # pip install plotly\n",
    "import numpy as np\n",
    "from plotly.graph_objs import *"
   ]
  },
  {
   "cell_type": "code",
   "execution_count": null,
   "metadata": {},
   "outputs": [],
   "source": [
    "ECG_Features = pd.read_csv(\"DREAMER_ECG.csv\")\n",
    "# Number of features : Nf = 30\n",
    "Nf=ECG_Features.shape[1]-1\n",
    "ECG_Features.head()"
   ]
  },
  {
   "cell_type": "code",
   "execution_count": null,
   "metadata": {},
   "outputs": [],
   "source": [
    "ECG_Feature_Value=[]\n",
    "for k in range(0,23):\n",
    "    for j in range(0,18):\n",
    "        for f in range(0,Nf):\n",
    "            if not(np.isnan(ECG_Features.iloc[18*k+j,1+f]) or np.isinf(ECG_Features.iloc[18*k+j,1+f])):\n",
    "                ECG_Feature_Value.append(ECG_Features.iloc[18*k+j,1+f])\n",
    "            else:\n",
    "                ECG_Feature_Value.append(0)"
   ]
  },
  {
   "cell_type": "code",
   "execution_count": null,
   "metadata": {},
   "outputs": [],
   "source": [
    "m=np.min(ECG_Feature_Value)\n",
    "M=np.max(ECG_Feature_Value)\n",
    "Colors=[]\n",
    "Color_Amplification=10\n",
    "for c in range(0,len(ECG_Feature_Value)):\n",
    "    Colors.append('rgb('+str(round(255*Color_Amplification*(ECG_Feature_Value[c]-m)/(M-m),1))+','+str(round(255*(ECG_Feature_Value[c]-m)/(M-m),1))+','+str(round(255*(ECG_Feature_Value[c]-m)/(M-m),1))+')')\n",
    "#print(Colors)"
   ]
  },
  {
   "cell_type": "code",
   "execution_count": null,
   "metadata": {},
   "outputs": [],
   "source": [
    "print([np.tile(np.tile(c,23),18)for c in range(0,Nf)])"
   ]
  },
  {
   "cell_type": "code",
   "execution_count": null,
   "metadata": {
    "scrolled": true
   },
   "outputs": [],
   "source": [
    "fig = go.Figure(data=go.Scatter3d(\n",
    "    x = np.tile([c for c in range(0,23)],18*Nf)\n",
    "    ,y = np.tile([c for c in range(0,18)],23*Nf)\n",
    "    ,z = np.tile([c for c in range(0,Nf)],18*23)\n",
    "    #text = planets,\n",
    "    ,mode = 'markers',\n",
    "    marker = dict(\n",
    "        sizemode = 'diameter',\n",
    "        size = 5, #ECG_Feature_Value,\n",
    "        color = Colors#['rgb(0,0,255)' for c in range(0,18*23*Nf)],\n",
    "        )\n",
    "))\n",
    "fig.update_layout(\n",
    "    title=\"Bubble Plot for the ECG features\",\n",
    "    scene=Scene(\n",
    "        xaxis=XAxis(title='Subject number'),\n",
    "        yaxis=YAxis(title='Video number'),\n",
    "        zaxis=ZAxis(title='Feature number')\n",
    "    )\n",
    "    #zaxis_title=\"Feature number\",\n",
    "    #font=dict(\n",
    "    #    family=\"Courier New, monospace\",\n",
    "    #    size=18,\n",
    "    #    color=\"#7f7f7f\")\n",
    "    )\n",
    "fig.show()                    "
   ]
  },
  {
   "cell_type": "code",
   "execution_count": null,
   "metadata": {},
   "outputs": [],
   "source": [
    "from ipywidgets import widgets\n",
    "import plotly.express as px\n",
    "\n",
    "ECG_Feature_Widget = widgets.Dropdown(\n",
    "    options=list(ECG_Features.columns[1:Nf]),\n",
    "    value='ECG_Rate_Mean',\n",
    "    description='ECG Feature :',\n",
    ")\n",
    "\n",
    "#graphic = go.Histogram(x=ECG_Features['ECG_Rate_Mean'], opacity=0.75, name='Some data')\n",
    "data=ECG_Features['ECG_Rate_Mean']\n",
    "graphic = go.Histogram(x=data, opacity=0.75, name='Some data')\n",
    "g = go.FigureWidget(data=[graphic],\n",
    "                    layout=go.Layout(\n",
    "                        title=dict(\n",
    "                            text='Interactive visualization of the ECG Features (Histogram)'\n",
    "                        ),\n",
    "                        barmode='overlay',\n",
    "                        xaxis=dict(title = ''), yaxis=dict(title = 'Counts[#]')\n",
    "                    ))\n",
    "\n",
    "def validate():\n",
    "    if ECG_Feature_Widget.value in ECG_Features[1:Nf].unique():\n",
    "        return True\n",
    "    else:\n",
    "        return False\n",
    "\n",
    "\n",
    "def response(change):\n",
    "            g.data[0].x = ECG_Features[ECG_Feature_Widget.value]\n",
    "            g.layout.barmode = 'overlay'\n",
    "            g.layout.xaxis.title = ''\n",
    "            g.layout.yaxis.title = 'Counts[#]'\n",
    "\n",
    "\n",
    "ECG_Feature_Widget.observe(response, names=\"value\")\n",
    "\n",
    "container = widgets.HBox([ECG_Feature_Widget])\n",
    "widgets.VBox([container,g])"
   ]
  }
 ],
 "metadata": {
  "kernelspec": {
   "display_name": "Python 3",
   "language": "python",
   "name": "python3"
  },
  "language_info": {
   "codemirror_mode": {
    "name": "ipython",
    "version": 3
   },
   "file_extension": ".py",
   "mimetype": "text/x-python",
   "name": "python",
   "nbconvert_exporter": "python",
   "pygments_lexer": "ipython3",
   "version": "3.7.6"
  }
 },
 "nbformat": 4,
 "nbformat_minor": 4
}
