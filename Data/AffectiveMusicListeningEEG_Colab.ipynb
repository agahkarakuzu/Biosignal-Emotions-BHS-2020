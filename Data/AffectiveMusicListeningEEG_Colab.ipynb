{
  "nbformat": 4,
  "nbformat_minor": 0,
  "metadata": {
    "colab": {
      "name": "AffectiveMusicListeningEEG.ipynb",
      "provenance": [],
      "collapsed_sections": [],
      "include_colab_link": true
    },
    "kernelspec": {
      "name": "python3",
      "display_name": "Python 3"
    }
  },
  "cells": [
    {
      "cell_type": "markdown",
      "metadata": {
        "id": "view-in-github",
        "colab_type": "text"
      },
      "source": [
        "<a href=\"https://colab.research.google.com/github/brainhack-school2020/Biosignal-Emotions-BHS-2020/blob/master/AffectiveMusicListeningEEG.ipynb\" target=\"_parent\"><img src=\"https://colab.research.google.com/assets/colab-badge.svg\" alt=\"Open In Colab\"/></a>"
      ]
    },
    {
      "cell_type": "code",
      "metadata": {
        "id": "ilhAiB8qNWxY",
        "colab_type": "code",
        "colab": {}
      },
      "source": [
        "# Install PyBIDS\n",
        "!pip install pybids\n",
        "# Install DataLad to download the dataset \"ds002721\" from OpenNEURO (https://openneuro.org/datasets/ds002721/versions/1.0.1)\n",
        "!pip install datalad"
      ],
      "execution_count": 0,
      "outputs": []
    },
    {
      "cell_type": "code",
      "metadata": {
        "id": "LEbBaV0JU5iX",
        "colab_type": "code",
        "colab": {
          "base_uri": "https://localhost:8080/",
          "height": 72
        },
        "outputId": "16579836-20c3-4e90-d342-ee96ff79bdc0"
      },
      "source": [
        "import datalad\n",
        "!datalad install https://github.com/OpenNeuroDatasets/ds002721.git\n",
        "!ls -aF\n",
        "# You should now have the folder \"ds002721/\" installed"
      ],
      "execution_count": 45,
      "outputs": [
        {
          "output_type": "stream",
          "text": [
            "It is highly recommended to configure Git before using DataLad. Set both 'user.name' and 'user.email' configuration variables.\n",
            "It is highly recommended to configure Git before using DataLad. Set both 'user.name' and 'user.email' configuration variables.\n",
            "./  ../  .config/  ds002721/  sample_data/\n"
          ],
          "name": "stdout"
        }
      ]
    },
    {
      "cell_type": "code",
      "metadata": {
        "id": "5UwS9EeGdfQ-",
        "colab_type": "code",
        "colab": {
          "base_uri": "https://localhost:8080/",
          "height": 144
        },
        "outputId": "05e14af8-00b8-42dc-db52-8be518e602ab"
      },
      "source": [
        "!ls -aF ds002721/"
      ],
      "execution_count": 47,
      "outputs": [
        {
          "output_type": "stream",
          "text": [
            "./\t\t\t  .git/\t\t    sub-04/  sub-11/  sub-18/  sub-25/\n",
            "../\t\t\t  .gitattributes    sub-05/  sub-12/  sub-19/  sub-26/\n",
            ".bidsignore\t\t  participants.tsv  sub-06/  sub-13/  sub-20/  sub-27/\n",
            "CHANGES\t\t\t  README\t    sub-07/  sub-14/  sub-21/  sub-28/\n",
            "code/\t\t\t  sub-01/\t    sub-08/  sub-15/  sub-22/  sub-29/\n",
            ".datalad/\t\t  sub-02/\t    sub-09/  sub-16/  sub-23/  sub-30/\n",
            "dataset_description.json  sub-03/\t    sub-10/  sub-17/  sub-24/  sub-31/\n"
          ],
          "name": "stdout"
        }
      ]
    },
    {
      "cell_type": "code",
      "metadata": {
        "id": "NHIHjD0mgoYj",
        "colab_type": "code",
        "colab": {
          "base_uri": "https://localhost:8080/",
          "height": 1000
        },
        "outputId": "e0dca873-05d1-4411-cf5f-05804b9b61b6"
      },
      "source": [
        "import pandas as pd \n",
        "participants = pd.read_csv(\"ds002721/participants.tsv\", delimiter='\\t')\n",
        "participants.head(len(participants))"
      ],
      "execution_count": 67,
      "outputs": [
        {
          "output_type": "execute_result",
          "data": {
            "text/html": [
              "<div>\n",
              "<style scoped>\n",
              "    .dataframe tbody tr th:only-of-type {\n",
              "        vertical-align: middle;\n",
              "    }\n",
              "\n",
              "    .dataframe tbody tr th {\n",
              "        vertical-align: top;\n",
              "    }\n",
              "\n",
              "    .dataframe thead th {\n",
              "        text-align: right;\n",
              "    }\n",
              "</style>\n",
              "<table border=\"1\" class=\"dataframe\">\n",
              "  <thead>\n",
              "    <tr style=\"text-align: right;\">\n",
              "      <th></th>\n",
              "      <th>participant_id</th>\n",
              "      <th>age</th>\n",
              "      <th>sex</th>\n",
              "    </tr>\n",
              "  </thead>\n",
              "  <tbody>\n",
              "    <tr>\n",
              "      <th>0</th>\n",
              "      <td>sub-01</td>\n",
              "      <td>31</td>\n",
              "      <td>M</td>\n",
              "    </tr>\n",
              "    <tr>\n",
              "      <th>1</th>\n",
              "      <td>sub-02</td>\n",
              "      <td>29</td>\n",
              "      <td>F</td>\n",
              "    </tr>\n",
              "    <tr>\n",
              "      <th>2</th>\n",
              "      <td>sub-03</td>\n",
              "      <td>39</td>\n",
              "      <td>F</td>\n",
              "    </tr>\n",
              "    <tr>\n",
              "      <th>3</th>\n",
              "      <td>sub-04</td>\n",
              "      <td>49</td>\n",
              "      <td>F</td>\n",
              "    </tr>\n",
              "    <tr>\n",
              "      <th>4</th>\n",
              "      <td>sub-05</td>\n",
              "      <td>23</td>\n",
              "      <td>F</td>\n",
              "    </tr>\n",
              "    <tr>\n",
              "      <th>5</th>\n",
              "      <td>sub-06</td>\n",
              "      <td>63</td>\n",
              "      <td>M</td>\n",
              "    </tr>\n",
              "    <tr>\n",
              "      <th>6</th>\n",
              "      <td>sub-07</td>\n",
              "      <td>34</td>\n",
              "      <td>M</td>\n",
              "    </tr>\n",
              "    <tr>\n",
              "      <th>7</th>\n",
              "      <td>sub-08</td>\n",
              "      <td>29</td>\n",
              "      <td>F</td>\n",
              "    </tr>\n",
              "    <tr>\n",
              "      <th>8</th>\n",
              "      <td>sub-09</td>\n",
              "      <td>36</td>\n",
              "      <td>F</td>\n",
              "    </tr>\n",
              "    <tr>\n",
              "      <th>9</th>\n",
              "      <td>sub-10</td>\n",
              "      <td>29</td>\n",
              "      <td>F</td>\n",
              "    </tr>\n",
              "    <tr>\n",
              "      <th>10</th>\n",
              "      <td>sub-11</td>\n",
              "      <td>51</td>\n",
              "      <td>M</td>\n",
              "    </tr>\n",
              "    <tr>\n",
              "      <th>11</th>\n",
              "      <td>sub-12</td>\n",
              "      <td>34</td>\n",
              "      <td>F</td>\n",
              "    </tr>\n",
              "    <tr>\n",
              "      <th>12</th>\n",
              "      <td>sub-13</td>\n",
              "      <td>60</td>\n",
              "      <td>F</td>\n",
              "    </tr>\n",
              "    <tr>\n",
              "      <th>13</th>\n",
              "      <td>sub-14</td>\n",
              "      <td>30</td>\n",
              "      <td>M</td>\n",
              "    </tr>\n",
              "    <tr>\n",
              "      <th>14</th>\n",
              "      <td>sub-15</td>\n",
              "      <td>59</td>\n",
              "      <td>M</td>\n",
              "    </tr>\n",
              "    <tr>\n",
              "      <th>15</th>\n",
              "      <td>sub-16</td>\n",
              "      <td>44</td>\n",
              "      <td>F</td>\n",
              "    </tr>\n",
              "    <tr>\n",
              "      <th>16</th>\n",
              "      <td>sub-17</td>\n",
              "      <td>59</td>\n",
              "      <td>M</td>\n",
              "    </tr>\n",
              "    <tr>\n",
              "      <th>17</th>\n",
              "      <td>sub-18</td>\n",
              "      <td>39</td>\n",
              "      <td>F</td>\n",
              "    </tr>\n",
              "    <tr>\n",
              "      <th>18</th>\n",
              "      <td>sub-19</td>\n",
              "      <td>44</td>\n",
              "      <td>M</td>\n",
              "    </tr>\n",
              "    <tr>\n",
              "      <th>19</th>\n",
              "      <td>sub-20</td>\n",
              "      <td>32</td>\n",
              "      <td>F</td>\n",
              "    </tr>\n",
              "    <tr>\n",
              "      <th>20</th>\n",
              "      <td>sub-21</td>\n",
              "      <td>66</td>\n",
              "      <td>F</td>\n",
              "    </tr>\n",
              "    <tr>\n",
              "      <th>21</th>\n",
              "      <td>sub-22</td>\n",
              "      <td>61</td>\n",
              "      <td>F</td>\n",
              "    </tr>\n",
              "    <tr>\n",
              "      <th>22</th>\n",
              "      <td>sub-23</td>\n",
              "      <td>22</td>\n",
              "      <td>F</td>\n",
              "    </tr>\n",
              "    <tr>\n",
              "      <th>23</th>\n",
              "      <td>sub-24</td>\n",
              "      <td>18</td>\n",
              "      <td>F</td>\n",
              "    </tr>\n",
              "    <tr>\n",
              "      <th>24</th>\n",
              "      <td>sub-25</td>\n",
              "      <td>62</td>\n",
              "      <td>M</td>\n",
              "    </tr>\n",
              "    <tr>\n",
              "      <th>25</th>\n",
              "      <td>sub-26</td>\n",
              "      <td>26</td>\n",
              "      <td>F</td>\n",
              "    </tr>\n",
              "    <tr>\n",
              "      <th>26</th>\n",
              "      <td>sub-27</td>\n",
              "      <td>38</td>\n",
              "      <td>M</td>\n",
              "    </tr>\n",
              "    <tr>\n",
              "      <th>27</th>\n",
              "      <td>sub-28</td>\n",
              "      <td>26</td>\n",
              "      <td>M</td>\n",
              "    </tr>\n",
              "    <tr>\n",
              "      <th>28</th>\n",
              "      <td>sub-29</td>\n",
              "      <td>35</td>\n",
              "      <td>M</td>\n",
              "    </tr>\n",
              "    <tr>\n",
              "      <th>29</th>\n",
              "      <td>sub-30</td>\n",
              "      <td>22</td>\n",
              "      <td>M</td>\n",
              "    </tr>\n",
              "    <tr>\n",
              "      <th>30</th>\n",
              "      <td>sub-31</td>\n",
              "      <td>23</td>\n",
              "      <td>F</td>\n",
              "    </tr>\n",
              "  </tbody>\n",
              "</table>\n",
              "</div>"
            ],
            "text/plain": [
              "   participant_id  age sex\n",
              "0          sub-01   31   M\n",
              "1          sub-02   29   F\n",
              "2          sub-03   39   F\n",
              "3          sub-04   49   F\n",
              "4          sub-05   23   F\n",
              "5          sub-06   63   M\n",
              "6          sub-07   34   M\n",
              "7          sub-08   29   F\n",
              "8          sub-09   36   F\n",
              "9          sub-10   29   F\n",
              "10         sub-11   51   M\n",
              "11         sub-12   34   F\n",
              "12         sub-13   60   F\n",
              "13         sub-14   30   M\n",
              "14         sub-15   59   M\n",
              "15         sub-16   44   F\n",
              "16         sub-17   59   M\n",
              "17         sub-18   39   F\n",
              "18         sub-19   44   M\n",
              "19         sub-20   32   F\n",
              "20         sub-21   66   F\n",
              "21         sub-22   61   F\n",
              "22         sub-23   22   F\n",
              "23         sub-24   18   F\n",
              "24         sub-25   62   M\n",
              "25         sub-26   26   F\n",
              "26         sub-27   38   M\n",
              "27         sub-28   26   M\n",
              "28         sub-29   35   M\n",
              "29         sub-30   22   M\n",
              "30         sub-31   23   F"
            ]
          },
          "metadata": {
            "tags": []
          },
          "execution_count": 67
        }
      ]
    },
    {
      "cell_type": "code",
      "metadata": {
        "id": "lFzSs5xtjtuU",
        "colab_type": "code",
        "colab": {
          "base_uri": "https://localhost:8080/",
          "height": 303
        },
        "outputId": "a0e2208d-04d7-40b3-dd16-8d0c53525fab"
      },
      "source": [
        "#import matplotlib.pyplot as plt\n",
        "#plt.hist(participants['age'])\n",
        "#plt.show()\n",
        "\n",
        "import seaborn as sns\n",
        "sns.set(style=\"darkgrid\")\n",
        "sns.countplot(x=\"age\", hue=\"sex\",data=participants)"
      ],
      "execution_count": 74,
      "outputs": [
        {
          "output_type": "execute_result",
          "data": {
            "text/plain": [
              "<matplotlib.axes._subplots.AxesSubplot at 0x7f08f5af05c0>"
            ]
          },
          "metadata": {
            "tags": []
          },
          "execution_count": 74
        },
        {
          "output_type": "display_data",
          "data": {
            "image/png": "[encoded data removed]",
            "text/plain": [
              "<Figure size 432x288 with 1 Axes>"
            ]
          },
          "metadata": {
            "tags": []
          }
        }
      ]
    },
    {
      "cell_type": "code",
      "metadata": {
        "id": "jIGO7DiGoef7",
        "colab_type": "code",
        "colab": {}
      },
      "source": [
        "from IPython.display import display\n",
        "subjects_list=[\"sub-01\",\"sub-18\",\"sub-05\"]\n",
        "tasks_list=[\"task-run1\",\"task-run2\",\"task-run3\",\"task-run4\",\"task-run5\",\"task-run6\"]\n",
        "\n",
        "subjects_id=[]\n",
        "channels=pd.DataFrame()\n",
        "for subject in subjects_list:\n",
        "  subjects_id.append(participants[participants['participant_id']==subject].index.values)\n",
        "  for task in tasks_list:\n",
        "    channels = (pd.DataFrame(pd.read_csv(\"ds002721/\"+subject+\"/eeg/\"+subject+\"_\"+task+\"_channels.tsv\", delimiter='\\t')))\n",
        "    #display(channels.head(len(channels)))\n",
        "    \n",
        "    events = (pd.DataFrame(pd.read_csv(\"ds002721/\"+subject+\"/eeg/\"+subject+\"_\"+task+\"_events.tsv\", delimiter='\\t')))\n",
        "    #display(events.head(len(channels)))"
      ],
      "execution_count": 0,
      "outputs": []
    },
    {
      "cell_type": "code",
      "metadata": {
        "id": "sDcdoXY32aP8",
        "colab_type": "code",
        "colab": {
          "base_uri": "https://localhost:8080/",
          "height": 144
        },
        "outputId": "d9c718e0-f5a5-450c-90cf-e719a602e533"
      },
      "source": [
        "!pip install -U mne"
      ],
      "execution_count": 141,
      "outputs": [
        {
          "output_type": "stream",
          "text": [
            "Collecting mne\n",
            "\u001b[?25l  Downloading https://files.pythonhosted.org/packages/72/f5/524020ce32785c632c84686aa5441fda59ccc78337ff0d45376d35d9c37a/mne-0.20.5-py3-none-any.whl (6.6MB)\n",
            "\u001b[K     |████████████████████████████████| 6.6MB 2.6MB/s \n",
            "\u001b[?25hRequirement already satisfied, skipping upgrade: scipy>=0.17.1 in /usr/local/lib/python3.6/dist-packages (from mne) (1.4.1)\n",
            "Requirement already satisfied, skipping upgrade: numpy>=1.11.3 in /usr/local/lib/python3.6/dist-packages (from mne) (1.18.4)\n",
            "Installing collected packages: mne\n",
            "Successfully installed mne-0.20.5\n"
          ],
          "name": "stdout"
        }
      ]
    },
    {
      "cell_type": "code",
      "metadata": {
        "id": "yud7OBhq2esv",
        "colab_type": "code",
        "colab": {
          "base_uri": "https://localhost:8080/",
          "height": 108
        },
        "outputId": "ac692a5e-d0f2-4031-ac46-9944f1f67cd9"
      },
      "source": [
        "!pip install -U mne-bids"
      ],
      "execution_count": 142,
      "outputs": [
        {
          "output_type": "stream",
          "text": [
            "Collecting mne-bids\n",
            "\u001b[?25l  Downloading https://files.pythonhosted.org/packages/1a/d2/90c8bf0ed60e6f2363c8596d2ebff114dd40a1b93680904574db06f1ece2/mne_bids-0.4-py3-none-any.whl (50kB)\n",
            "\r\u001b[K     |██████▌                         | 10kB 16.6MB/s eta 0:00:01\r\u001b[K     |█████████████                   | 20kB 1.8MB/s eta 0:00:01\r\u001b[K     |███████████████████▋            | 30kB 2.3MB/s eta 0:00:01\r\u001b[K     |██████████████████████████      | 40kB 2.5MB/s eta 0:00:01\r\u001b[K     |████████████████████████████████| 51kB 1.6MB/s \n",
            "\u001b[?25hInstalling collected packages: mne-bids\n",
            "Successfully installed mne-bids-0.4\n"
          ],
          "name": "stdout"
        }
      ]
    },
    {
      "cell_type": "code",
      "metadata": {
        "id": "xCrK31wD3NdL",
        "colab_type": "code",
        "colab": {
          "base_uri": "https://localhost:8080/",
          "height": 108
        },
        "outputId": "cefb2988-0f93-4980-96b6-77d2c3cdf172"
      },
      "source": [
        "# First let's try without BIDS\n",
        "\n",
        "import mne\n",
        "subjects_list=[\"sub-02\"]\n",
        "tasks_list=[\"task-run1\"]#,\"task-run2\",\"task-run3\",\"task-run4\",\"task-run5\",\"task-run6\"]\n",
        "\n",
        "#for subject in subjects_list:\n",
        "#  subjects_id.append(participants[participants['participant_id']==subject].index.values)\n",
        "#  for task in tasks_list:\n",
        "     # raw = mne.io.read_raw_edf(\"ds002721/\"+subject+\"/eeg/\"+subject+\"_\"+task+\"_eeg.edf\")\n",
        "     # display(len(raw))\n",
        "display(os.path.isfile(\"ds002721/\"+subject+\"/eeg/\"+subject+\"_\"+task+\"_channels.tsv\"))\n",
        "display(os.path.isfile(\"ds002721/\"+subject+\"/eeg/\"+subject+\"_\"+task+\"_eeg.edf\"))\n",
        "display(os.path.isfile(\"ds002721/\"+subject+\"/eeg/\"+subject+\"_\"+task+\"_eeg.json\"))\n",
        "display(os.path.isfile(\"ds002721/\"+subject+\"/eeg/\"+subject+\"_\"+task+\"_events.json\"))\n",
        "display(os.path.isfile(\"ds002721/\"+subject+\"/eeg/\"+subject+\"_\"+task+\"_events.tsv\"))"
      ],
      "execution_count": 167,
      "outputs": [
        {
          "output_type": "display_data",
          "data": {
            "text/plain": [
              "True"
            ]
          },
          "metadata": {
            "tags": []
          }
        },
        {
          "output_type": "display_data",
          "data": {
            "text/plain": [
              "False"
            ]
          },
          "metadata": {
            "tags": []
          }
        },
        {
          "output_type": "display_data",
          "data": {
            "text/plain": [
              "True"
            ]
          },
          "metadata": {
            "tags": []
          }
        },
        {
          "output_type": "display_data",
          "data": {
            "text/plain": [
              "True"
            ]
          },
          "metadata": {
            "tags": []
          }
        },
        {
          "output_type": "display_data",
          "data": {
            "text/plain": [
              "True"
            ]
          },
          "metadata": {
            "tags": []
          }
        }
      ]
    },
    {
      "cell_type": "code",
      "metadata": {
        "id": "cvpBQ5__87Vm",
        "colab_type": "code",
        "colab": {
          "base_uri": "https://localhost:8080/",
          "height": 308
        },
        "outputId": "74b1cbda-76ee-41f5-f764-6fd753e42f9f"
      },
      "source": [
        "!ls -aF ds002721/sub-01/eeg/\n",
        "\n",
        "# Problem here : The .edf files are inaccessible (e.g. \"sub-01_task-run1_eeg.edf\" comes as a \"sub-01_task-run1_eeg.edf@\")"
      ],
      "execution_count": 168,
      "outputs": [
        {
          "output_type": "stream",
          "text": [
            "./\t\t\t       sub-01_task-run3_events.tsv\n",
            "../\t\t\t       sub-01_task-run4_channels.tsv\n",
            "sub-01_task-run1_channels.tsv  sub-01_task-run4_eeg.edf@\n",
            "sub-01_task-run1_eeg.edf@      sub-01_task-run4_eeg.json\n",
            "sub-01_task-run1_eeg.json      sub-01_task-run4_events.json\n",
            "sub-01_task-run1_events.json   sub-01_task-run4_events.tsv\n",
            "sub-01_task-run1_events.tsv    sub-01_task-run5_channels.tsv\n",
            "sub-01_task-run2_channels.tsv  sub-01_task-run5_eeg.edf@\n",
            "sub-01_task-run2_eeg.edf@      sub-01_task-run5_eeg.json\n",
            "sub-01_task-run2_eeg.json      sub-01_task-run5_events.json\n",
            "sub-01_task-run2_events.json   sub-01_task-run5_events.tsv\n",
            "sub-01_task-run2_events.tsv    sub-01_task-run6_channels.tsv\n",
            "sub-01_task-run3_channels.tsv  sub-01_task-run6_eeg.edf@\n",
            "sub-01_task-run3_eeg.edf@      sub-01_task-run6_eeg.json\n",
            "sub-01_task-run3_eeg.json      sub-01_task-run6_events.json\n",
            "sub-01_task-run3_events.json   sub-01_task-run6_events.tsv\n"
          ],
          "name": "stdout"
        }
      ]
    }
  ]
}
