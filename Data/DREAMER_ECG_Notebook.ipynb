{
 "cells": [
  {
   "cell_type": "code",
   "execution_count": null,
   "metadata": {},
   "outputs": [],
   "source": [
    "# Original script : https://github.com/Jiaqi1008/Emotion_detection/blob/master/ECG.py\n",
    "\n",
    "import scipy.io as sio\n",
    "import pandas as pd\n",
    "from sklearn import preprocessing as pre\n",
    "# Import the Neurokit2 library\n",
    "import neurokit2 as nk # pip install https://github.com/neuropsychology/neurokit/zipball/master"
   ]
  },
  {
   "cell_type": "code",
   "execution_count": null,
   "metadata": {},
   "outputs": [],
   "source": [
    "# Load the DREAMER dataset\n",
    "path=u'DREAMER.mat'\n",
    "data=sio.loadmat(path)"
   ]
  },
  {
   "cell_type": "code",
   "execution_count": null,
   "metadata": {},
   "outputs": [],
   "source": [
    "# Create an empty dataframe ECG that will contain the features for all subjects and videos\n",
    "ECG={}\n",
    "# Create a counter to track the processing progress\n",
    "total=0"
   ]
  },
  {
   "cell_type": "code",
   "execution_count": null,
   "metadata": {},
   "outputs": [],
   "source": [
    "# Loop over the 23 subjects (indexed by k) and over the 18 videos (indexed by j)\n",
    "print(\"ECG features are being extracted...\")\n",
    "for k in range(0,23):\n",
    "        for j in range(0,18):\n",
    "            # Load the data for the Baseline paradigm and for the Stimulus paradigm (Left)\n",
    "            basl_l=data['DREAMER'][0,0]['Data'][0,k]['ECG'][0,0]['baseline'][0,0][j,0][:,0]\n",
    "            stim_l=data['DREAMER'][0,0]['Data'][0,k]['ECG'][0,0]['stimuli'][0,0][j,0][:,0]\n",
    "            # Load the data for the Baseline paradigm and for the Stimulus paradigm (Right)\n",
    "            basl_r=data['DREAMER'][0,0]['Data'][0,k]['ECG'][0,0]['baseline'][0,0][j,0][:,1]\n",
    "            stim_r=data['DREAMER'][0,0]['Data'][0,k]['ECG'][0,0]['stimuli'][0,0][j,0][:,1]\n",
    "            # Use the Neurokit2 ecg_process command for each paradigm with a sampling rate of 256 Hz\n",
    "            # Documentation : https://neurokit.readthedocs.io/en/latest/documentation.html#neurokit.ecg_process\n",
    "            ecg_signals_b_l,info_b_l=nk.ecg_process(basl_l,sampling_rate=256)\n",
    "            ecg_signals_s_l,info_s_l=nk.ecg_process(stim_l,sampling_rate=256)\n",
    "            ecg_signals_b_r,info_b_r=nk.ecg_process(basl_r,sampling_rate=256)\n",
    "            ecg_signals_s_r,info_s_r=nk.ecg_process(stim_r,sampling_rate=256)\n",
    "            # Use the Neurokit2 ecg_intervalrelated command to generate a dataframe of the features for Left and Right\n",
    "            # Documentation : https://neurokit2.readthedocs.io/en/latest/examples/intervalrelated.html\n",
    "            processed_ecg_l=nk.ecg_intervalrelated(ecg_signals_s_l)/nk.ecg_intervalrelated(ecg_signals_b_l)\n",
    "            processed_ecg_r=nk.ecg_intervalrelated(ecg_signals_s_r)/nk.ecg_intervalrelated(ecg_signals_b_r)\n",
    "            # Average the Left and Right features\n",
    "            processed_ecg=(processed_ecg_l+processed_ecg_r)/2\n",
    "            # Fill in the ECG dataframe\n",
    "            if not len(ECG):\n",
    "                ECG=processed_ecg\n",
    "            else:\n",
    "                ECG=pd.concat([ECG,processed_ecg],ignore_index=True)\n",
    "            print(\"\\rProgress: %d%%\" %(total/(23*18)*100),end=\"\")"
   ]
  },
  {
   "cell_type": "code",
   "execution_count": null,
   "metadata": {},
   "outputs": [],
   "source": [
    "# Save the features as a CSV file\n",
    "ECG.to_csv(\"DREAMER_ECG.csv\") "
   ]
  }
 ],
 "metadata": {
  "kernelspec": {
   "display_name": "Python 3",
   "language": "python",
   "name": "python3"
  },
  "language_info": {
   "codemirror_mode": {
    "name": "ipython",
    "version": 3
   },
   "file_extension": ".py",
   "mimetype": "text/x-python",
   "name": "python",
   "nbconvert_exporter": "python",
   "pygments_lexer": "ipython3",
   "version": "3.7.6"
  }
 },
 "nbformat": 4,
 "nbformat_minor": 4
}
